{
 "cells": [
  {
   "cell_type": "code",
   "execution_count": 6,
   "metadata": {},
   "outputs": [
    {
     "name": "stdout",
     "output_type": "stream",
     "text": [
      "{'Benny', 'Søren', 'Troels', 'Torben', 'Hans', 'Mille'}\n",
      "{'Tine'}\n",
      "1\n",
      "True\n",
      "False\n",
      "{'Tine'}\n",
      "{'Niels', 'Lars', 'Allan', 'Stine', 'Bent', 'Anna', 'Claus', 'James', 'Ole'}\n"
     ]
    }
   ],
   "source": [
    "import opg_one"
   ]
  },
  {
   "cell_type": "code",
   "execution_count": 7,
   "metadata": {},
   "outputs": [
    {
     "name": "stdout",
     "output_type": "stream",
     "text": [
      "[('a', 'Alpha'), ('b', 'Beta'), ('g', 'Gamma')]\n",
      "{'o', 'u', 'y', 'i', 'ø', 'æ', 'e', 'å', 'a'}\n",
      "{'o', 'u', 'y', 'i', 'ø', 'æ', 'e', 'å', 'a'}\n",
      "{'ø', 'æ', 'å'}\n",
      "{'ø', 'æ', 'å'}\n",
      "set()\n",
      "{'ø', 'å', 'æ'}\n",
      "set()\n",
      "{'ø', 'å', 'æ'}\n",
      "False\n",
      "{'o', 'u', 'y', 'i', 'e', 'a'}\n"
     ]
    }
   ],
   "source": [
    "import opg_two_and_three"
   ]
  },
  {
   "cell_type": "code",
   "execution_count": 8,
   "metadata": {},
   "outputs": [
    {
     "name": "stdout",
     "output_type": "stream",
     "text": [
      "(12, 4, 1990)\n"
     ]
    }
   ],
   "source": [
    "import opg_four"
   ]
  },
  {
   "cell_type": "code",
   "execution_count": 9,
   "metadata": {},
   "outputs": [
    {
     "name": "stdout",
     "output_type": "stream",
     "text": [
      "Friends who have not RSVP'd:\n",
      "Eve\n",
      "Bob\n",
      "\n",
      "Friends who were not invited but RSVP'd:\n",
      "Grace\n",
      "Frank\n",
      "\n",
      "Friends who are common in both lists:\n",
      "Alice\n",
      "David\n",
      "Charlie\n"
     ]
    }
   ],
   "source": [
    "import opg_five"
   ]
  },
  {
   "cell_type": "code",
   "execution_count": 10,
   "metadata": {},
   "outputs": [
    {
     "name": "stdout",
     "output_type": "stream",
     "text": [
      "Charlie has a grade higher than 85.\n",
      "David has a grade higher than 85.\n"
     ]
    }
   ],
   "source": [
    "import opg_six"
   ]
  }
 ],
 "metadata": {
  "kernelspec": {
   "display_name": "Python 3",
   "language": "python",
   "name": "python3"
  },
  "language_info": {
   "codemirror_mode": {
    "name": "ipython",
    "version": 3
   },
   "file_extension": ".py",
   "mimetype": "text/x-python",
   "name": "python",
   "nbconvert_exporter": "python",
   "pygments_lexer": "ipython3",
   "version": "3.11.4"
  },
  "orig_nbformat": 4
 },
 "nbformat": 4,
 "nbformat_minor": 2
}
